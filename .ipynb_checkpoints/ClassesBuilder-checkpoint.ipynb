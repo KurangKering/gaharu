{
 "cells": [
  {
   "cell_type": "code",
   "execution_count": 1,
   "metadata": {},
   "outputs": [],
   "source": [
    "%load_ext autoreload\n",
    "%autoreload 2"
   ]
  },
  {
   "cell_type": "code",
   "execution_count": 2,
   "metadata": {},
   "outputs": [],
   "source": [
    "from skimage.color import rgb2hsv\n",
    "from skimage.filters import gaussian, threshold_otsu\n",
    "from skimage.color import rgb2gray\n",
    "from skimage import measure\n",
    "from skimage.morphology import (\n",
    "    disk,\n",
    "    binary_closing,\n",
    "    flood_fill,\n",
    "    label,\n",
    "    remove_small_objects)\n",
    "from PIL import Image\n",
    "import numpy as np\n",
    "from skimage.io import imsave\n",
    "import os\n",
    "import cv2\n",
    "\n",
    "import numpy as np\n",
    "import scipy as sp\n",
    "import scipy.ndimage\n",
    "from skimage.io import imread\n"
   ]
  },
  {
   "cell_type": "code",
   "execution_count": 3,
   "metadata": {},
   "outputs": [],
   "source": [
    "def flood_fill(test_array, h_max=255):\n",
    "    input_array = np.copy(test_array)\n",
    "    el = sp.ndimage.generate_binary_structure(2, 2).astype(np.int)\n",
    "    inside_mask = sp.ndimage.binary_erosion(\n",
    "        ~np.isnan(input_array), structure=el)\n",
    "    output_array = np.copy(input_array)\n",
    "    output_array[inside_mask] = h_max\n",
    "    output_old_array = np.copy(input_array)\n",
    "    output_old_array.fill(0)\n",
    "    el = sp.ndimage.generate_binary_structure(2, 1).astype(np.int)\n",
    "    while not np.array_equal(output_old_array, output_array):\n",
    "        output_old_array = np.copy(output_array)\n",
    "        output_array = np.maximum(input_array, sp.ndimage.grey_erosion(\n",
    "            output_array, size=(3, 3), footprint=el))\n",
    "    return output_array\n",
    "\n",
    "\n",
    "def imcomplement(matrix):\n",
    "    \"\"\"\n",
    "    Return the imcomplement of the matrix/image. Equivalent to Matlab's imcomplement function.\n",
    "    \"\"\"\n",
    "    newmatrix = -matrix + np.max(matrix) + np.min(matrix)\n",
    "    return newmatrix\n",
    "\n",
    "\n",
    "def morphology(img):\n",
    "    \"\"\"\n",
    "    proses morfologi: \n",
    "    img: gray\n",
    "    \"\"\"\n",
    "    RADIUS = 4\n",
    "    binary = (img > 170).astype(np.float)\n",
    "    complement = imcomplement(binary)\n",
    "    structure = disk(RADIUS)\n",
    "    enclosed = binary_closing(complement, structure)\n",
    "    imfilled = flood_fill(enclosed)\n",
    "    cleaned = remove_small_objects(imfilled, min_size=60, connectivity=2)\n",
    "    return cleaned"
   ]
  },
  {
   "cell_type": "code",
   "execution_count": 12,
   "metadata": {},
   "outputs": [],
   "source": [
    "filename = r\"C:\\Users\\Popeye\\Documents\\ILHAM RAHMADHANI\\gaharu\\Crassna (1).jpg\"\n",
    "img = cv2.imread(filename, cv2.IMREAD_UNCHANGED)\n",
    "gray2 = cv2.cvtColor(img, cv2.COLOR_BGR2GRAY)\n",
    "\n"
   ]
  },
  {
   "cell_type": "code",
   "execution_count": 140,
   "metadata": {},
   "outputs": [],
   "source": [
    "hsv = cv2.cvtColor(img, cv2.COLOR_BGR2HSV)\n",
    "hsv = cv2.split(hsv)\n",
    "gray = hsv[0]\n",
    "gray = cv2.GaussianBlur(gray, (3,3), sigmaX=-1, sigmaY=-1)\n",
    "ret,binary = cv2.threshold(gray, 0, 255, cv2.THRESH_OTSU | cv2.THRESH_BINARY_INV)\n",
    "contours = cv2.findContours(binary, cv2.RETR_EXTERNAL, cv2.CHAIN_APPROX_SIMPLE)\n"
   ]
  },
  {
   "cell_type": "code",
   "execution_count": 142,
   "metadata": {},
   "outputs": [],
   "source": [
    "hsv = cv2.cvtColor(img, cv2.COLOR_BGR2HSV)\n",
    "hsv = cv2.split(hsv)\n",
    "gray = hsv[0]\n",
    "gray = cv2.GaussianBlur(gray, (3,3), sigmaX=-1, sigmaY=-1)\n",
    "ret,binary = cv2.threshold(gray, 0, 255, cv2.THRESH_OTSU | cv2.THRESH_BINARY_INV)\n",
    "contours = cv2.findContours(binary, cv2.RETR_EXTERNAL, cv2.CHAIN_APPROX_SIMPLE)[0]\n",
    "\n",
    "for cnt in contours:\n",
    "    (x,y,w,h) = cv2.boundingRect(cnt)\n",
    "    ROI = img[y:y,x:x]\n",
    "    cv2.imshow('ROI', ROI)\n",
    "    cv2.waitKey(0)\n",
    "\n",
    "cv2.destroyAllWindows()"
   ]
  },
  {
   "cell_type": "code",
   "execution_count": 35,
   "metadata": {},
   "outputs": [
    {
     "data": {
      "text/plain": [
       "-1"
      ]
     },
     "execution_count": 35,
     "metadata": {},
     "output_type": "execute_result"
    }
   ],
   "source": [
    "contoured_image = cv2.drawContours(img, contours, 0, (0,0,255), thickness = 2)\n"
   ]
  },
  {
   "cell_type": "code",
   "execution_count": 77,
   "metadata": {},
   "outputs": [
    {
     "data": {
      "text/plain": [
       "19441"
      ]
     },
     "execution_count": 77,
     "metadata": {},
     "output_type": "execute_result"
    }
   ],
   "source": []
  },
  {
   "cell_type": "code",
   "execution_count": 130,
   "metadata": {},
   "outputs": [
    {
     "data": {
      "text/plain": [
       "-1"
      ]
     },
     "execution_count": 130,
     "metadata": {},
     "output_type": "execute_result"
    }
   ],
   "source": [
    "cv2.imshow('image', binary)\n",
    "cv2.waitKey(0)"
   ]
  },
  {
   "cell_type": "code",
   "execution_count": 80,
   "metadata": {},
   "outputs": [
    {
     "data": {
      "text/plain": [
       "array([0, 1, 0, 0, 1, 0, 0])"
      ]
     },
     "execution_count": 80,
     "metadata": {},
     "output_type": "execute_result"
    }
   ],
   "source": [
    "xx = np.array([1,0,1,1,0,1,1])\n",
    "-xx + 1 + 0"
   ]
  }
 ],
 "metadata": {
  "kernelspec": {
   "display_name": "Python 3",
   "language": "python",
   "name": "python3"
  },
  "language_info": {
   "codemirror_mode": {
    "name": "ipython",
    "version": 3
   },
   "file_extension": ".py",
   "mimetype": "text/x-python",
   "name": "python",
   "nbconvert_exporter": "python",
   "pygments_lexer": "ipython3",
   "version": "3.8.5"
  }
 },
 "nbformat": 4,
 "nbformat_minor": 4
}
